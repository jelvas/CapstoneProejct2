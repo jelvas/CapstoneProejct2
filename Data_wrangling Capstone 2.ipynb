{
 "cells": [
  {
   "cell_type": "markdown",
   "id": "cdeb6f4e",
   "metadata": {},
   "source": [
    "Definition of Data Science Problem"
   ]
  },
  {
   "cell_type": "markdown",
   "id": "23a2ecdf",
   "metadata": {},
   "source": [
    "The purpose of this project is to build a model that will predict annual premium for vehicle insurance. Insurance companies are strugling greatly with proposing a premium charge that will cover the risk profile of customers and benefit their business. If this is not done properly, insurance company is at risk of paying more for customers' claims than actually gaining through annual premiums. This model will be used to provide guidance for insurance company's annual premium suggestions strategy."
   ]
  },
  {
   "cell_type": "markdown",
   "id": "ba342c07",
   "metadata": {},
   "source": [
    "Imports"
   ]
  },
  {
   "cell_type": "code",
   "execution_count": 1,
   "id": "633ffd8a",
   "metadata": {},
   "outputs": [
    {
     "ename": "ModuleNotFoundError",
     "evalue": "No module named 'library'",
     "output_type": "error",
     "traceback": [
      "\u001b[1;31m---------------------------------------------------------------------------\u001b[0m",
      "\u001b[1;31mModuleNotFoundError\u001b[0m                       Traceback (most recent call last)",
      "\u001b[1;32m<ipython-input-1-d7ee420b3ff9>\u001b[0m in \u001b[0;36m<module>\u001b[1;34m\u001b[0m\n\u001b[0;32m      2\u001b[0m \u001b[1;32mimport\u001b[0m \u001b[0mmatplotlib\u001b[0m\u001b[1;33m.\u001b[0m\u001b[0mpyplot\u001b[0m \u001b[1;32mas\u001b[0m \u001b[0mplt\u001b[0m\u001b[1;33m\u001b[0m\u001b[1;33m\u001b[0m\u001b[0m\n\u001b[0;32m      3\u001b[0m \u001b[1;32mimport\u001b[0m \u001b[0mseaborn\u001b[0m \u001b[1;32mas\u001b[0m \u001b[0msbn\u001b[0m\u001b[1;33m\u001b[0m\u001b[1;33m\u001b[0m\u001b[0m\n\u001b[1;32m----> 4\u001b[1;33m \u001b[1;32mfrom\u001b[0m \u001b[0mlibrary\u001b[0m\u001b[1;33m.\u001b[0m\u001b[0msb_utils\u001b[0m \u001b[1;32mimport\u001b[0m \u001b[0msave_file\u001b[0m\u001b[1;33m\u001b[0m\u001b[1;33m\u001b[0m\u001b[0m\n\u001b[0m",
      "\u001b[1;31mModuleNotFoundError\u001b[0m: No module named 'library'"
     ]
    }
   ],
   "source": [
    "import pandas as pd\n",
    "import matplotlib.pyplot as plt\n",
    "import seaborn as sbn\n",
    "from library.sb_utils import save_file"
   ]
  },
  {
   "cell_type": "markdown",
   "id": "0f5f7cef",
   "metadata": {},
   "source": [
    "Load the Insurance Data"
   ]
  },
  {
   "cell_type": "code",
   "execution_count": 2,
   "id": "9a21f049",
   "metadata": {},
   "outputs": [],
   "source": [
    "ins_data=pd.read_csv('C:/Users/User/Desktop/Data Science Course/Capstone 2/trainInsurance.csv')"
   ]
  },
  {
   "cell_type": "code",
   "execution_count": 3,
   "id": "9d529590",
   "metadata": {},
   "outputs": [
    {
     "name": "stdout",
     "output_type": "stream",
     "text": [
      "<class 'pandas.core.frame.DataFrame'>\n",
      "RangeIndex: 381109 entries, 0 to 381108\n",
      "Data columns (total 12 columns):\n",
      " #   Column                Non-Null Count   Dtype  \n",
      "---  ------                --------------   -----  \n",
      " 0   id                    381109 non-null  int64  \n",
      " 1   Gender                381109 non-null  object \n",
      " 2   Age                   381109 non-null  int64  \n",
      " 3   Driving_License       381109 non-null  int64  \n",
      " 4   Region_Code           381109 non-null  float64\n",
      " 5   Previously_Insured    381109 non-null  int64  \n",
      " 6   Vehicle_Age           381109 non-null  object \n",
      " 7   Vehicle_Damage        381109 non-null  object \n",
      " 8   Annual_Premium        381109 non-null  float64\n",
      " 9   Policy_Sales_Channel  381109 non-null  float64\n",
      " 10  Vintage               381109 non-null  int64  \n",
      " 11  Response              381109 non-null  int64  \n",
      "dtypes: float64(3), int64(6), object(3)\n",
      "memory usage: 34.9+ MB\n"
     ]
    }
   ],
   "source": [
    "ins_data.info()"
   ]
  },
  {
   "cell_type": "markdown",
   "id": "1f3f223e",
   "metadata": {},
   "source": [
    "There is a column Annual_Premium that we want to model on, whereas other columns are potential features which we will further explore to see if all are relevant for the model."
   ]
  },
  {
   "cell_type": "code",
   "execution_count": 4,
   "id": "894b65d2",
   "metadata": {},
   "outputs": [
    {
     "data": {
      "text/html": [
       "<div>\n",
       "<style scoped>\n",
       "    .dataframe tbody tr th:only-of-type {\n",
       "        vertical-align: middle;\n",
       "    }\n",
       "\n",
       "    .dataframe tbody tr th {\n",
       "        vertical-align: top;\n",
       "    }\n",
       "\n",
       "    .dataframe thead th {\n",
       "        text-align: right;\n",
       "    }\n",
       "</style>\n",
       "<table border=\"1\" class=\"dataframe\">\n",
       "  <thead>\n",
       "    <tr style=\"text-align: right;\">\n",
       "      <th></th>\n",
       "      <th>id</th>\n",
       "      <th>Gender</th>\n",
       "      <th>Age</th>\n",
       "      <th>Driving_License</th>\n",
       "      <th>Region_Code</th>\n",
       "      <th>Previously_Insured</th>\n",
       "      <th>Vehicle_Age</th>\n",
       "      <th>Vehicle_Damage</th>\n",
       "      <th>Annual_Premium</th>\n",
       "      <th>Policy_Sales_Channel</th>\n",
       "      <th>Vintage</th>\n",
       "      <th>Response</th>\n",
       "    </tr>\n",
       "  </thead>\n",
       "  <tbody>\n",
       "    <tr>\n",
       "      <th>0</th>\n",
       "      <td>1</td>\n",
       "      <td>Male</td>\n",
       "      <td>44</td>\n",
       "      <td>1</td>\n",
       "      <td>28.0</td>\n",
       "      <td>0</td>\n",
       "      <td>&gt; 2 Years</td>\n",
       "      <td>Yes</td>\n",
       "      <td>40454.0</td>\n",
       "      <td>26.0</td>\n",
       "      <td>217</td>\n",
       "      <td>1</td>\n",
       "    </tr>\n",
       "    <tr>\n",
       "      <th>1</th>\n",
       "      <td>2</td>\n",
       "      <td>Male</td>\n",
       "      <td>76</td>\n",
       "      <td>1</td>\n",
       "      <td>3.0</td>\n",
       "      <td>0</td>\n",
       "      <td>1-2 Year</td>\n",
       "      <td>No</td>\n",
       "      <td>33536.0</td>\n",
       "      <td>26.0</td>\n",
       "      <td>183</td>\n",
       "      <td>0</td>\n",
       "    </tr>\n",
       "    <tr>\n",
       "      <th>2</th>\n",
       "      <td>3</td>\n",
       "      <td>Male</td>\n",
       "      <td>47</td>\n",
       "      <td>1</td>\n",
       "      <td>28.0</td>\n",
       "      <td>0</td>\n",
       "      <td>&gt; 2 Years</td>\n",
       "      <td>Yes</td>\n",
       "      <td>38294.0</td>\n",
       "      <td>26.0</td>\n",
       "      <td>27</td>\n",
       "      <td>1</td>\n",
       "    </tr>\n",
       "    <tr>\n",
       "      <th>3</th>\n",
       "      <td>4</td>\n",
       "      <td>Male</td>\n",
       "      <td>21</td>\n",
       "      <td>1</td>\n",
       "      <td>11.0</td>\n",
       "      <td>1</td>\n",
       "      <td>&lt; 1 Year</td>\n",
       "      <td>No</td>\n",
       "      <td>28619.0</td>\n",
       "      <td>152.0</td>\n",
       "      <td>203</td>\n",
       "      <td>0</td>\n",
       "    </tr>\n",
       "    <tr>\n",
       "      <th>4</th>\n",
       "      <td>5</td>\n",
       "      <td>Female</td>\n",
       "      <td>29</td>\n",
       "      <td>1</td>\n",
       "      <td>41.0</td>\n",
       "      <td>1</td>\n",
       "      <td>&lt; 1 Year</td>\n",
       "      <td>No</td>\n",
       "      <td>27496.0</td>\n",
       "      <td>152.0</td>\n",
       "      <td>39</td>\n",
       "      <td>0</td>\n",
       "    </tr>\n",
       "  </tbody>\n",
       "</table>\n",
       "</div>"
      ],
      "text/plain": [
       "   id  Gender  Age  Driving_License  Region_Code  Previously_Insured  \\\n",
       "0   1    Male   44                1         28.0                   0   \n",
       "1   2    Male   76                1          3.0                   0   \n",
       "2   3    Male   47                1         28.0                   0   \n",
       "3   4    Male   21                1         11.0                   1   \n",
       "4   5  Female   29                1         41.0                   1   \n",
       "\n",
       "  Vehicle_Age Vehicle_Damage  Annual_Premium  Policy_Sales_Channel  Vintage  \\\n",
       "0   > 2 Years            Yes         40454.0                  26.0      217   \n",
       "1    1-2 Year             No         33536.0                  26.0      183   \n",
       "2   > 2 Years            Yes         38294.0                  26.0       27   \n",
       "3    < 1 Year             No         28619.0                 152.0      203   \n",
       "4    < 1 Year             No         27496.0                 152.0       39   \n",
       "\n",
       "   Response  \n",
       "0         1  \n",
       "1         0  \n",
       "2         1  \n",
       "3         0  \n",
       "4         0  "
      ]
     },
     "execution_count": 4,
     "metadata": {},
     "output_type": "execute_result"
    }
   ],
   "source": [
    "ins_data.head()"
   ]
  },
  {
   "cell_type": "markdown",
   "id": "c128af16",
   "metadata": {},
   "source": [
    "Let's see if there are any missing values in the dataset."
   ]
  },
  {
   "cell_type": "code",
   "execution_count": 5,
   "id": "4907c788",
   "metadata": {},
   "outputs": [
    {
     "data": {
      "text/html": [
       "<div>\n",
       "<style scoped>\n",
       "    .dataframe tbody tr th:only-of-type {\n",
       "        vertical-align: middle;\n",
       "    }\n",
       "\n",
       "    .dataframe tbody tr th {\n",
       "        vertical-align: top;\n",
       "    }\n",
       "\n",
       "    .dataframe thead th {\n",
       "        text-align: right;\n",
       "    }\n",
       "</style>\n",
       "<table border=\"1\" class=\"dataframe\">\n",
       "  <thead>\n",
       "    <tr style=\"text-align: right;\">\n",
       "      <th></th>\n",
       "      <th>count</th>\n",
       "      <th>%</th>\n",
       "    </tr>\n",
       "  </thead>\n",
       "  <tbody>\n",
       "    <tr>\n",
       "      <th>id</th>\n",
       "      <td>0</td>\n",
       "      <td>0.0</td>\n",
       "    </tr>\n",
       "    <tr>\n",
       "      <th>Gender</th>\n",
       "      <td>0</td>\n",
       "      <td>0.0</td>\n",
       "    </tr>\n",
       "    <tr>\n",
       "      <th>Age</th>\n",
       "      <td>0</td>\n",
       "      <td>0.0</td>\n",
       "    </tr>\n",
       "    <tr>\n",
       "      <th>Driving_License</th>\n",
       "      <td>0</td>\n",
       "      <td>0.0</td>\n",
       "    </tr>\n",
       "    <tr>\n",
       "      <th>Region_Code</th>\n",
       "      <td>0</td>\n",
       "      <td>0.0</td>\n",
       "    </tr>\n",
       "    <tr>\n",
       "      <th>Previously_Insured</th>\n",
       "      <td>0</td>\n",
       "      <td>0.0</td>\n",
       "    </tr>\n",
       "    <tr>\n",
       "      <th>Vehicle_Age</th>\n",
       "      <td>0</td>\n",
       "      <td>0.0</td>\n",
       "    </tr>\n",
       "    <tr>\n",
       "      <th>Vehicle_Damage</th>\n",
       "      <td>0</td>\n",
       "      <td>0.0</td>\n",
       "    </tr>\n",
       "    <tr>\n",
       "      <th>Annual_Premium</th>\n",
       "      <td>0</td>\n",
       "      <td>0.0</td>\n",
       "    </tr>\n",
       "    <tr>\n",
       "      <th>Policy_Sales_Channel</th>\n",
       "      <td>0</td>\n",
       "      <td>0.0</td>\n",
       "    </tr>\n",
       "    <tr>\n",
       "      <th>Vintage</th>\n",
       "      <td>0</td>\n",
       "      <td>0.0</td>\n",
       "    </tr>\n",
       "    <tr>\n",
       "      <th>Response</th>\n",
       "      <td>0</td>\n",
       "      <td>0.0</td>\n",
       "    </tr>\n",
       "  </tbody>\n",
       "</table>\n",
       "</div>"
      ],
      "text/plain": [
       "                      count    %\n",
       "id                        0  0.0\n",
       "Gender                    0  0.0\n",
       "Age                       0  0.0\n",
       "Driving_License           0  0.0\n",
       "Region_Code               0  0.0\n",
       "Previously_Insured        0  0.0\n",
       "Vehicle_Age               0  0.0\n",
       "Vehicle_Damage            0  0.0\n",
       "Annual_Premium            0  0.0\n",
       "Policy_Sales_Channel      0  0.0\n",
       "Vintage                   0  0.0\n",
       "Response                  0  0.0"
      ]
     },
     "execution_count": 5,
     "metadata": {},
     "output_type": "execute_result"
    }
   ],
   "source": [
    "missing = pd.concat([ins_data.isnull().sum(), 100 * ins_data.isnull().mean()], axis=1)\n",
    "missing.columns=[\"count\", \"%\"]\n",
    "missing.sort_values(by=[\"count\"], ascending=False)"
   ]
  },
  {
   "cell_type": "markdown",
   "id": "ec7255fd",
   "metadata": {},
   "source": [
    "These are great news! There are no missing values in the dataset, so we will be able to use all observations in our model."
   ]
  },
  {
   "cell_type": "markdown",
   "id": "0f37e89e",
   "metadata": {},
   "source": [
    "Exploring the data\n",
    "Let's see how representative the data is and whether it covers wide range of possible options. First, we want to understand what is the age range included and whether it is egually represented. We will do this using describe method to see min, max and mean values. Next, it would be good to check Gender, Driving_Licence and Region_Code features. "
   ]
  },
  {
   "cell_type": "code",
   "execution_count": 6,
   "id": "370c9b43",
   "metadata": {},
   "outputs": [
    {
     "data": {
      "text/plain": [
       "count    381109.000000\n",
       "mean         38.822584\n",
       "std          15.511611\n",
       "min          20.000000\n",
       "25%          25.000000\n",
       "50%          36.000000\n",
       "75%          49.000000\n",
       "max          85.000000\n",
       "Name: Age, dtype: float64"
      ]
     },
     "execution_count": 6,
     "metadata": {},
     "output_type": "execute_result"
    }
   ],
   "source": [
    "ins_data['Age'].describe()"
   ]
  },
  {
   "cell_type": "markdown",
   "id": "0c219233",
   "metadata": {},
   "source": [
    "Good, we can see that the age is widely represented. It goes from 20 to even 85 years, with a mean value of around 39 years. The question we can ask for later exploration is:\n",
    "    - How many customers we have over 75 years and does it make sense to include them in the prediction model? Are they our target group for vehicle insurance?"
   ]
  },
  {
   "cell_type": "markdown",
   "id": "93af180e",
   "metadata": {},
   "source": [
    "In order to use Gender variable in the modelling process, it would be good to transform it to numerical values using 0 for Male and 1 for Female. We will do the same for Vehicle_Damage, where 0 will be No and 1 Yes."
   ]
  },
  {
   "cell_type": "code",
   "execution_count": 7,
   "id": "43c51ff7",
   "metadata": {},
   "outputs": [],
   "source": [
    "ins_data['Gender'].replace(['Male','Female'],[0,1],inplace=True)\n",
    "ins_data['Vehicle_Damage'].replace(['No', 'Yes'], [0,1], inplace=True)"
   ]
  },
  {
   "cell_type": "code",
   "execution_count": 8,
   "id": "d93978ff",
   "metadata": {},
   "outputs": [
    {
     "data": {
      "image/png": "[encoded data removed]",
      "text/plain": [
       "<Figure size 864x576 with 3 Axes>"
      ]
     },
     "metadata": {
      "needs_background": "light"
     },
     "output_type": "display_data"
    }
   ],
   "source": [
    "fig, ax = plt.subplots(nrows=1, ncols=3, figsize=(12,8))\n",
    "ins_data.Gender.value_counts().plot(kind=\"bar\", ax=ax[0])\n",
    "ax[0].set_title(\"Gender\")\n",
    "ax[0].set_xlabel(\"Count\")\n",
    "ins_data.Driving_License.value_counts().plot(kind=\"bar\", ax=ax[1])\n",
    "ax[1].set_title(\"Driving License\")\n",
    "ax[1].set_xlabel(\"Count\")\n",
    "ins_data.Vehicle_Damage.value_counts().plot(kind=\"bar\", ax=ax[2])\n",
    "ax[2].set_title(\"Vehicle Damage\")\n",
    "ax[2].set_xlabel(\"Count\")\n",
    "plt.subplots_adjust(wspace=0.5);"
   ]
  },
  {
   "cell_type": "markdown",
   "id": "57b9ae2c",
   "metadata": {},
   "source": [
    "We can see that Gender and Vehicle_Damage variables are well represented, however for Driving_License variable all observations have the value 1, so there is no point in including this variable in analysis, so we will remove it from the data set."
   ]
  },
  {
   "cell_type": "code",
   "execution_count": 9,
   "id": "380d8003",
   "metadata": {},
   "outputs": [],
   "source": [
    "ins_data.drop(columns=\"Driving_License\", inplace=True)"
   ]
  },
  {
   "cell_type": "code",
   "execution_count": 10,
   "id": "8c7e0210",
   "metadata": {
    "scrolled": true
   },
   "outputs": [
    {
     "data": {
      "text/html": [
       "<div>\n",
       "<style scoped>\n",
       "    .dataframe tbody tr th:only-of-type {\n",
       "        vertical-align: middle;\n",
       "    }\n",
       "\n",
       "    .dataframe tbody tr th {\n",
       "        vertical-align: top;\n",
       "    }\n",
       "\n",
       "    .dataframe thead th {\n",
       "        text-align: right;\n",
       "    }\n",
       "</style>\n",
       "<table border=\"1\" class=\"dataframe\">\n",
       "  <thead>\n",
       "    <tr style=\"text-align: right;\">\n",
       "      <th></th>\n",
       "      <th>id</th>\n",
       "      <th>Gender</th>\n",
       "      <th>Age</th>\n",
       "      <th>Region_Code</th>\n",
       "      <th>Previously_Insured</th>\n",
       "      <th>Vehicle_Age</th>\n",
       "      <th>Vehicle_Damage</th>\n",
       "      <th>Annual_Premium</th>\n",
       "      <th>Policy_Sales_Channel</th>\n",
       "      <th>Vintage</th>\n",
       "      <th>Response</th>\n",
       "    </tr>\n",
       "  </thead>\n",
       "  <tbody>\n",
       "    <tr>\n",
       "      <th>0</th>\n",
       "      <td>1</td>\n",
       "      <td>0</td>\n",
       "      <td>44</td>\n",
       "      <td>28.0</td>\n",
       "      <td>0</td>\n",
       "      <td>&gt; 2 Years</td>\n",
       "      <td>1</td>\n",
       "      <td>40454.0</td>\n",
       "      <td>26.0</td>\n",
       "      <td>217</td>\n",
       "      <td>1</td>\n",
       "    </tr>\n",
       "    <tr>\n",
       "      <th>1</th>\n",
       "      <td>2</td>\n",
       "      <td>0</td>\n",
       "      <td>76</td>\n",
       "      <td>3.0</td>\n",
       "      <td>0</td>\n",
       "      <td>1-2 Year</td>\n",
       "      <td>0</td>\n",
       "      <td>33536.0</td>\n",
       "      <td>26.0</td>\n",
       "      <td>183</td>\n",
       "      <td>0</td>\n",
       "    </tr>\n",
       "    <tr>\n",
       "      <th>2</th>\n",
       "      <td>3</td>\n",
       "      <td>0</td>\n",
       "      <td>47</td>\n",
       "      <td>28.0</td>\n",
       "      <td>0</td>\n",
       "      <td>&gt; 2 Years</td>\n",
       "      <td>1</td>\n",
       "      <td>38294.0</td>\n",
       "      <td>26.0</td>\n",
       "      <td>27</td>\n",
       "      <td>1</td>\n",
       "    </tr>\n",
       "    <tr>\n",
       "      <th>3</th>\n",
       "      <td>4</td>\n",
       "      <td>0</td>\n",
       "      <td>21</td>\n",
       "      <td>11.0</td>\n",
       "      <td>1</td>\n",
       "      <td>&lt; 1 Year</td>\n",
       "      <td>0</td>\n",
       "      <td>28619.0</td>\n",
       "      <td>152.0</td>\n",
       "      <td>203</td>\n",
       "      <td>0</td>\n",
       "    </tr>\n",
       "    <tr>\n",
       "      <th>4</th>\n",
       "      <td>5</td>\n",
       "      <td>1</td>\n",
       "      <td>29</td>\n",
       "      <td>41.0</td>\n",
       "      <td>1</td>\n",
       "      <td>&lt; 1 Year</td>\n",
       "      <td>0</td>\n",
       "      <td>27496.0</td>\n",
       "      <td>152.0</td>\n",
       "      <td>39</td>\n",
       "      <td>0</td>\n",
       "    </tr>\n",
       "  </tbody>\n",
       "</table>\n",
       "</div>"
      ],
      "text/plain": [
       "   id  Gender  Age  Region_Code  Previously_Insured Vehicle_Age  \\\n",
       "0   1       0   44         28.0                   0   > 2 Years   \n",
       "1   2       0   76          3.0                   0    1-2 Year   \n",
       "2   3       0   47         28.0                   0   > 2 Years   \n",
       "3   4       0   21         11.0                   1    < 1 Year   \n",
       "4   5       1   29         41.0                   1    < 1 Year   \n",
       "\n",
       "   Vehicle_Damage  Annual_Premium  Policy_Sales_Channel  Vintage  Response  \n",
       "0               1         40454.0                  26.0      217         1  \n",
       "1               0         33536.0                  26.0      183         0  \n",
       "2               1         38294.0                  26.0       27         1  \n",
       "3               0         28619.0                 152.0      203         0  \n",
       "4               0         27496.0                 152.0       39         0  "
      ]
     },
     "execution_count": 10,
     "metadata": {},
     "output_type": "execute_result"
    }
   ],
   "source": [
    "ins_data.head()"
   ]
  },
  {
   "cell_type": "markdown",
   "id": "41e57334",
   "metadata": {},
   "source": [
    "In order to use Vehicle_Age in the modelling part, since it is very important for the annual premium calculations, we will need to transform it to the numerical values (<1 Year will be 0, 1-2 Year will be 2, >2 Years will be 2)."
   ]
  },
  {
   "cell_type": "code",
   "execution_count": 11,
   "id": "ff3ccabd",
   "metadata": {},
   "outputs": [],
   "source": [
    "ins_data['Vehicle_Age'].replace(['< 1 Year', '1-2 Year', '> 2 Years'], [0,1,2], inplace=True)"
   ]
  },
  {
   "cell_type": "code",
   "execution_count": 12,
   "id": "d27dbcea",
   "metadata": {},
   "outputs": [
    {
     "data": {
      "text/plain": [
       "<AxesSubplot:>"
      ]
     },
     "execution_count": 12,
     "metadata": {},
     "output_type": "execute_result"
    },
    {
     "data": {
      "image/png": "[encoded data removed]",
      "text/plain": [
       "<Figure size 432x288 with 1 Axes>"
      ]
     },
     "metadata": {
      "needs_background": "light"
     },
     "output_type": "display_data"
    }
   ],
   "source": [
    "ins_data['Vehicle_Age'].hist()"
   ]
  },
  {
   "cell_type": "markdown",
   "id": "f65374fb",
   "metadata": {},
   "source": [
    "This shows that most of the vehicles are up to 2 years old, there are not so many vehicles that are older than 2 years. For the analysis, it would be better that we have more options, however we will keep it as it is.\n",
    "\n",
    "Another thing we will do is to show Annual Premium in EUR as it will be easier to track, currently the data is in Indian Rupees. To do this, we will multiply the data point with 0.011."
   ]
  },
  {
   "cell_type": "code",
   "execution_count": 15,
   "id": "7a80d621",
   "metadata": {},
   "outputs": [],
   "source": [
    "ins_data['Annual_Premium_Eur'] = ins_data['Annual_Premium'] * 0.011"
   ]
  },
  {
   "cell_type": "code",
   "execution_count": 16,
   "id": "05939c3b",
   "metadata": {},
   "outputs": [
    {
     "data": {
      "text/html": [
       "<div>\n",
       "<style scoped>\n",
       "    .dataframe tbody tr th:only-of-type {\n",
       "        vertical-align: middle;\n",
       "    }\n",
       "\n",
       "    .dataframe tbody tr th {\n",
       "        vertical-align: top;\n",
       "    }\n",
       "\n",
       "    .dataframe thead th {\n",
       "        text-align: right;\n",
       "    }\n",
       "</style>\n",
       "<table border=\"1\" class=\"dataframe\">\n",
       "  <thead>\n",
       "    <tr style=\"text-align: right;\">\n",
       "      <th></th>\n",
       "      <th>id</th>\n",
       "      <th>Gender</th>\n",
       "      <th>Age</th>\n",
       "      <th>Region_Code</th>\n",
       "      <th>Previously_Insured</th>\n",
       "      <th>Vehicle_Age</th>\n",
       "      <th>Vehicle_Damage</th>\n",
       "      <th>Annual_Premium</th>\n",
       "      <th>Policy_Sales_Channel</th>\n",
       "      <th>Vintage</th>\n",
       "      <th>Response</th>\n",
       "      <th>Annual_Premium_Eur</th>\n",
       "    </tr>\n",
       "  </thead>\n",
       "  <tbody>\n",
       "    <tr>\n",
       "      <th>0</th>\n",
       "      <td>1</td>\n",
       "      <td>0</td>\n",
       "      <td>44</td>\n",
       "      <td>28.0</td>\n",
       "      <td>0</td>\n",
       "      <td>2</td>\n",
       "      <td>1</td>\n",
       "      <td>40454.0</td>\n",
       "      <td>26.0</td>\n",
       "      <td>217</td>\n",
       "      <td>1</td>\n",
       "      <td>444.994</td>\n",
       "    </tr>\n",
       "    <tr>\n",
       "      <th>1</th>\n",
       "      <td>2</td>\n",
       "      <td>0</td>\n",
       "      <td>76</td>\n",
       "      <td>3.0</td>\n",
       "      <td>0</td>\n",
       "      <td>1</td>\n",
       "      <td>0</td>\n",
       "      <td>33536.0</td>\n",
       "      <td>26.0</td>\n",
       "      <td>183</td>\n",
       "      <td>0</td>\n",
       "      <td>368.896</td>\n",
       "    </tr>\n",
       "    <tr>\n",
       "      <th>2</th>\n",
       "      <td>3</td>\n",
       "      <td>0</td>\n",
       "      <td>47</td>\n",
       "      <td>28.0</td>\n",
       "      <td>0</td>\n",
       "      <td>2</td>\n",
       "      <td>1</td>\n",
       "      <td>38294.0</td>\n",
       "      <td>26.0</td>\n",
       "      <td>27</td>\n",
       "      <td>1</td>\n",
       "      <td>421.234</td>\n",
       "    </tr>\n",
       "    <tr>\n",
       "      <th>3</th>\n",
       "      <td>4</td>\n",
       "      <td>0</td>\n",
       "      <td>21</td>\n",
       "      <td>11.0</td>\n",
       "      <td>1</td>\n",
       "      <td>0</td>\n",
       "      <td>0</td>\n",
       "      <td>28619.0</td>\n",
       "      <td>152.0</td>\n",
       "      <td>203</td>\n",
       "      <td>0</td>\n",
       "      <td>314.809</td>\n",
       "    </tr>\n",
       "    <tr>\n",
       "      <th>4</th>\n",
       "      <td>5</td>\n",
       "      <td>1</td>\n",
       "      <td>29</td>\n",
       "      <td>41.0</td>\n",
       "      <td>1</td>\n",
       "      <td>0</td>\n",
       "      <td>0</td>\n",
       "      <td>27496.0</td>\n",
       "      <td>152.0</td>\n",
       "      <td>39</td>\n",
       "      <td>0</td>\n",
       "      <td>302.456</td>\n",
       "    </tr>\n",
       "  </tbody>\n",
       "</table>\n",
       "</div>"
      ],
      "text/plain": [
       "   id  Gender  Age  Region_Code  Previously_Insured  Vehicle_Age  \\\n",
       "0   1       0   44         28.0                   0            2   \n",
       "1   2       0   76          3.0                   0            1   \n",
       "2   3       0   47         28.0                   0            2   \n",
       "3   4       0   21         11.0                   1            0   \n",
       "4   5       1   29         41.0                   1            0   \n",
       "\n",
       "   Vehicle_Damage  Annual_Premium  Policy_Sales_Channel  Vintage  Response  \\\n",
       "0               1         40454.0                  26.0      217         1   \n",
       "1               0         33536.0                  26.0      183         0   \n",
       "2               1         38294.0                  26.0       27         1   \n",
       "3               0         28619.0                 152.0      203         0   \n",
       "4               0         27496.0                 152.0       39         0   \n",
       "\n",
       "   Annual_Premium_Eur  \n",
       "0             444.994  \n",
       "1             368.896  \n",
       "2             421.234  \n",
       "3             314.809  \n",
       "4             302.456  "
      ]
     },
     "execution_count": 16,
     "metadata": {},
     "output_type": "execute_result"
    }
   ],
   "source": [
    "ins_data.head()"
   ]
  },
  {
   "cell_type": "code",
   "execution_count": 17,
   "id": "4de9fe84",
   "metadata": {},
   "outputs": [],
   "source": [
    "ins_data.drop(columns='Annual_Premium', inplace=True)"
   ]
  },
  {
   "cell_type": "markdown",
   "id": "d6d79843",
   "metadata": {},
   "source": [
    "There are two additional columns that are not needed for the modelling of annual premium. Those are Vintage and Response columns which we will exclude now from the data set."
   ]
  },
  {
   "cell_type": "code",
   "execution_count": 18,
   "id": "5e58e4b2",
   "metadata": {},
   "outputs": [
    {
     "data": {
      "text/html": [
       "<div>\n",
       "<style scoped>\n",
       "    .dataframe tbody tr th:only-of-type {\n",
       "        vertical-align: middle;\n",
       "    }\n",
       "\n",
       "    .dataframe tbody tr th {\n",
       "        vertical-align: top;\n",
       "    }\n",
       "\n",
       "    .dataframe thead th {\n",
       "        text-align: right;\n",
       "    }\n",
       "</style>\n",
       "<table border=\"1\" class=\"dataframe\">\n",
       "  <thead>\n",
       "    <tr style=\"text-align: right;\">\n",
       "      <th></th>\n",
       "      <th>id</th>\n",
       "      <th>Gender</th>\n",
       "      <th>Age</th>\n",
       "      <th>Region_Code</th>\n",
       "      <th>Previously_Insured</th>\n",
       "      <th>Vehicle_Age</th>\n",
       "      <th>Vehicle_Damage</th>\n",
       "      <th>Policy_Sales_Channel</th>\n",
       "      <th>Annual_Premium_Eur</th>\n",
       "    </tr>\n",
       "  </thead>\n",
       "  <tbody>\n",
       "    <tr>\n",
       "      <th>0</th>\n",
       "      <td>1</td>\n",
       "      <td>0</td>\n",
       "      <td>44</td>\n",
       "      <td>28.0</td>\n",
       "      <td>0</td>\n",
       "      <td>2</td>\n",
       "      <td>1</td>\n",
       "      <td>26.0</td>\n",
       "      <td>444.994</td>\n",
       "    </tr>\n",
       "    <tr>\n",
       "      <th>1</th>\n",
       "      <td>2</td>\n",
       "      <td>0</td>\n",
       "      <td>76</td>\n",
       "      <td>3.0</td>\n",
       "      <td>0</td>\n",
       "      <td>1</td>\n",
       "      <td>0</td>\n",
       "      <td>26.0</td>\n",
       "      <td>368.896</td>\n",
       "    </tr>\n",
       "    <tr>\n",
       "      <th>2</th>\n",
       "      <td>3</td>\n",
       "      <td>0</td>\n",
       "      <td>47</td>\n",
       "      <td>28.0</td>\n",
       "      <td>0</td>\n",
       "      <td>2</td>\n",
       "      <td>1</td>\n",
       "      <td>26.0</td>\n",
       "      <td>421.234</td>\n",
       "    </tr>\n",
       "    <tr>\n",
       "      <th>3</th>\n",
       "      <td>4</td>\n",
       "      <td>0</td>\n",
       "      <td>21</td>\n",
       "      <td>11.0</td>\n",
       "      <td>1</td>\n",
       "      <td>0</td>\n",
       "      <td>0</td>\n",
       "      <td>152.0</td>\n",
       "      <td>314.809</td>\n",
       "    </tr>\n",
       "    <tr>\n",
       "      <th>4</th>\n",
       "      <td>5</td>\n",
       "      <td>1</td>\n",
       "      <td>29</td>\n",
       "      <td>41.0</td>\n",
       "      <td>1</td>\n",
       "      <td>0</td>\n",
       "      <td>0</td>\n",
       "      <td>152.0</td>\n",
       "      <td>302.456</td>\n",
       "    </tr>\n",
       "  </tbody>\n",
       "</table>\n",
       "</div>"
      ],
      "text/plain": [
       "   id  Gender  Age  Region_Code  Previously_Insured  Vehicle_Age  \\\n",
       "0   1       0   44         28.0                   0            2   \n",
       "1   2       0   76          3.0                   0            1   \n",
       "2   3       0   47         28.0                   0            2   \n",
       "3   4       0   21         11.0                   1            0   \n",
       "4   5       1   29         41.0                   1            0   \n",
       "\n",
       "   Vehicle_Damage  Policy_Sales_Channel  Annual_Premium_Eur  \n",
       "0               1                  26.0             444.994  \n",
       "1               0                  26.0             368.896  \n",
       "2               1                  26.0             421.234  \n",
       "3               0                 152.0             314.809  \n",
       "4               0                 152.0             302.456  "
      ]
     },
     "execution_count": 18,
     "metadata": {},
     "output_type": "execute_result"
    }
   ],
   "source": [
    "ins_data.drop(columns=['Vintage', 'Response'], inplace=True)\n",
    "ins_data.head()"
   ]
  },
  {
   "cell_type": "markdown",
   "id": "996fc241",
   "metadata": {},
   "source": [
    "Let's see how are region codes distributed and what are the most common regions in the data set. We can check both histogram and bar chart to observe the frequency."
   ]
  },
  {
   "cell_type": "code",
   "execution_count": 19,
   "id": "2478de85",
   "metadata": {},
   "outputs": [
    {
     "data": {
      "image/png": "[encoded data removed]",
      "text/plain": [
       "<Figure size 432x288 with 1 Axes>"
      ]
     },
     "metadata": {
      "needs_background": "light"
     },
     "output_type": "display_data"
    }
   ],
   "source": [
    "ins_data.Region_Code.hist(bins=30)\n",
    "plt.xlabel('Region')\n",
    "plt.ylabel('Count')\n",
    "plt.title('Distribution of different regions');"
   ]
  },
  {
   "cell_type": "code",
   "execution_count": 24,
   "id": "7b17c43f",
   "metadata": {},
   "outputs": [
    {
     "data": {
      "text/plain": [
       "<AxesSubplot:xlabel='Region', ylabel='Count'>"
      ]
     },
     "execution_count": 24,
     "metadata": {},
     "output_type": "execute_result"
    },
    {
     "data": {
      "image/png": "[encoded data removed]",
      "text/plain": [
       "<Figure size 864x576 with 1 Axes>"
      ]
     },
     "metadata": {
      "needs_background": "light"
     },
     "output_type": "display_data"
    }
   ],
   "source": [
    "fig, ax = plt.subplots(nrows=1, ncols=1, figsize=(12,8))\n",
    "ins_data.Region_Code.value_counts().plot(kind=\"bar\", xlabel='Region', ylabel='Count')"
   ]
  },
  {
   "cell_type": "markdown",
   "id": "8f2071f8",
   "metadata": {},
   "source": [
    "It is clear that by far the region with the code 28.0 is the most present in the data set, the rest are quite behind which can indicate that this is some metropolitan area densely populated."
   ]
  },
  {
   "cell_type": "markdown",
   "id": "2a03cc70",
   "metadata": {},
   "source": [
    "The one feature which is not easily readable is Policy Sales Channel, so let us see what kind of options this feature has and how are they distributed."
   ]
  },
  {
   "cell_type": "code",
   "execution_count": 27,
   "id": "a2008d01",
   "metadata": {},
   "outputs": [
    {
     "data": {
      "text/plain": [
       "count    381109.000000\n",
       "mean        112.034295\n",
       "std          54.203995\n",
       "min           1.000000\n",
       "25%          29.000000\n",
       "50%         133.000000\n",
       "75%         152.000000\n",
       "max         163.000000\n",
       "Name: Policy_Sales_Channel, dtype: float64"
      ]
     },
     "execution_count": 27,
     "metadata": {},
     "output_type": "execute_result"
    }
   ],
   "source": [
    "ins_data['Policy_Sales_Channel'].describe()"
   ]
  },
  {
   "cell_type": "code",
   "execution_count": 28,
   "id": "70a1d1ed",
   "metadata": {},
   "outputs": [
    {
     "data": {
      "image/png": "[encoded data removed]",
      "text/plain": [
       "<Figure size 432x288 with 1 Axes>"
      ]
     },
     "metadata": {
      "needs_background": "light"
     },
     "output_type": "display_data"
    }
   ],
   "source": [
    "ins_data.Policy_Sales_Channel.hist(bins=30)\n",
    "plt.xlabel('Policy Sales Channel')\n",
    "plt.ylabel('Count');"
   ]
  },
  {
   "cell_type": "markdown",
   "id": "31cbcb12",
   "metadata": {},
   "source": [
    "We assume these are the sales channel IDs, however there is no more explanation beyond that, so it very difficult to read the results. The obvious question needed to be asked here is whether this data is useful and what can be done with it."
   ]
  },
  {
   "cell_type": "markdown",
   "id": "23eac1a9",
   "metadata": {},
   "source": [
    "SAVE THE DATA\n",
    "In order not to overwrite the previous data set, we will save this data under the new name."
   ]
  },
  {
   "cell_type": "code",
   "execution_count": 30,
   "id": "d6d3be02",
   "metadata": {},
   "outputs": [
    {
     "ename": "NameError",
     "evalue": "name 'save_file' is not defined",
     "output_type": "error",
     "traceback": [
      "\u001b[1;31m---------------------------------------------------------------------------\u001b[0m",
      "\u001b[1;31mNameError\u001b[0m                                 Traceback (most recent call last)",
      "\u001b[1;32m<ipython-input-30-a8be96c5c21b>\u001b[0m in \u001b[0;36m<module>\u001b[1;34m\u001b[0m\n\u001b[0;32m      1\u001b[0m \u001b[0mdatapath\u001b[0m \u001b[1;33m=\u001b[0m \u001b[1;34m'C:/Users/User/Desktop/Data Science Course/Capstone 2'\u001b[0m\u001b[1;33m\u001b[0m\u001b[1;33m\u001b[0m\u001b[0m\n\u001b[1;32m----> 2\u001b[1;33m \u001b[0msave_file\u001b[0m\u001b[1;33m(\u001b[0m\u001b[0mins_data\u001b[0m\u001b[1;33m,\u001b[0m \u001b[1;34m'ins_data.csv'\u001b[0m\u001b[1;33m,\u001b[0m \u001b[0mdatapath\u001b[0m\u001b[1;33m)\u001b[0m\u001b[1;33m\u001b[0m\u001b[1;33m\u001b[0m\u001b[0m\n\u001b[0m",
      "\u001b[1;31mNameError\u001b[0m: name 'save_file' is not defined"
     ]
    }
   ],
   "source": [
    "datapath = 'C:/Users/User/Desktop/Data Science Course/Capstone 2'\n",
    "save_file(ins_data, 'ins_data.csv', datapath)"
   ]
  },
  {
   "cell_type": "code",
   "execution_count": null,
   "id": "bf3e94f2",
   "metadata": {},
   "outputs": [],
   "source": []
  }
 ],
 "metadata": {
  "kernelspec": {
   "display_name": "Python 3",
   "language": "python",
   "name": "python3"
  },
  "language_info": {
   "codemirror_mode": {
    "name": "ipython",
    "version": 3
   },
   "file_extension": ".py",
   "mimetype": "text/x-python",
   "name": "python",
   "nbconvert_exporter": "python",
   "pygments_lexer": "ipython3",
   "version": "3.8.8"
  }
 },
 "nbformat": 4,
 "nbformat_minor": 5
}
